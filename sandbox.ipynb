{
 "cells": [
  {
   "cell_type": "code",
   "execution_count": null,
   "metadata": {},
   "outputs": [
    {
     "ename": "",
     "evalue": "",
     "output_type": "error",
     "traceback": [
      "\u001b[1;31mRunning cells with 'env' requires the ipykernel package.\n",
      "\u001b[1;31mRun the following command to install 'ipykernel' into the Python environment. \n",
      "\u001b[1;31mCommand: '/Users/scmitton/Documents/Dev/Ledget/env/bin/python -m pip install ipykernel -U --force-reinstall'"
     ]
    }
   ],
   "source": [
    "def foo():\n",
    "    a = []\n",
    "    b = \"user\"\n",
    "    if a and b:\n",
    "        foobar()\n",
    "    else:\n",
    "        print(\"foobar never gets executed\")\n",
    "    \n",
    "def foobar():\n",
    "    print(\"This code is executed\")\n",
    "    \n",
    "foo()"
   ]
  }
 ],
 "metadata": {
  "kernelspec": {
   "display_name": "env",
   "language": "python",
   "name": "python3"
  },
  "language_info": {
   "codemirror_mode": {
    "name": "ipython",
    "version": 3
   },
   "file_extension": ".py",
   "mimetype": "text/x-python",
   "name": "python",
   "nbconvert_exporter": "python",
   "pygments_lexer": "ipython3",
   "version": "3.10.9"
  },
  "orig_nbformat": 4,
  "vscode": {
   "interpreter": {
    "hash": "8e23049853bf358c23df58f4d0733a2dfa796bcb7ea2573376876dd53a675d4b"
   }
  }
 },
 "nbformat": 4,
 "nbformat_minor": 2
}
