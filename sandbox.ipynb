{
 "cells": [
  {
   "cell_type": "code",
   "execution_count": 1,
   "metadata": {},
   "outputs": [
    {
     "name": "stdout",
     "output_type": "stream",
     "text": [
      "test1@EXAMPLE.com\n",
      "test1@example.com\n",
      "\n",
      "\n",
      "Test2@Example.com\n",
      "Test2@example.com\n",
      "\n",
      "\n",
      "TEST3@EXAMPLE.COM\n",
      "TEST3@example.com\n",
      "\n",
      "\n",
      "test4@example.COM\n",
      "test4@example.com\n",
      "\n",
      "\n"
     ]
    }
   ],
   "source": []
  }
 ],
 "metadata": {
  "kernelspec": {
   "display_name": "env",
   "language": "python",
   "name": "python3"
  },
  "language_info": {
   "codemirror_mode": {
    "name": "ipython",
    "version": 3
   },
   "file_extension": ".py",
   "mimetype": "text/x-python",
   "name": "python",
   "nbconvert_exporter": "python",
   "pygments_lexer": "ipython3",
   "version": "3.10.9"
  },
  "orig_nbformat": 4,
  "vscode": {
   "interpreter": {
    "hash": "8e23049853bf358c23df58f4d0733a2dfa796bcb7ea2573376876dd53a675d4b"
   }
  }
 },
 "nbformat": 4,
 "nbformat_minor": 2
}
